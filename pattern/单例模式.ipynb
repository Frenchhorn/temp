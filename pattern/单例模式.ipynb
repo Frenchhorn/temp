{
 "cells": [
  {
   "cell_type": "code",
   "execution_count": 34,
   "metadata": {},
   "outputs": [],
   "source": [
    "def singleton(cls, *args, **kw):\n",
    "    instance = {}\n",
    "    def _singleton(*args, **kw):\n",
    "        if cls not in instance:\n",
    "            instance[cls] = cls(*args, **kw)\n",
    "        return instance[cls]\n",
    "    return _singleton\n",
    "\n",
    "@singleton\n",
    "class MyClass():\n",
    "    a = 1\n",
    "    def __init__(self, x, y):\n",
    "        self.x = x\n",
    "        self.y = y\n",
    "\n",
    "one = MyClass(2,3)\n",
    "two = MyClass(3)"
   ]
  },
  {
   "cell_type": "code",
   "execution_count": 37,
   "metadata": {},
   "outputs": [
    {
     "name": "stdout",
     "output_type": "stream",
     "text": [
      "True\n",
      "True\n",
      "True\n",
      "2 2\n"
     ]
    }
   ],
   "source": [
    "print(id(one) == id(two))\n",
    "print(one == two)\n",
    "print(one is two)\n",
    "print(one.x, two.x)"
   ]
  },
  {
   "cell_type": "code",
   "execution_count": 32,
   "metadata": {},
   "outputs": [],
   "source": [
    "def singleton(cls):\n",
    "    instance = {}\n",
    "    instance[cls] = cls()\n",
    "    def _singleton():\n",
    "        return instance[cls]\n",
    "    return _singleton\n",
    "\n",
    "@singleton\n",
    "class MyClass():\n",
    "    a = 1\n",
    "    def __init__(self):\n",
    "        self.x = 1\n",
    "        self.y = 2\n",
    "\n",
    "one = MyClass()\n",
    "two = MyClass()"
   ]
  },
  {
   "cell_type": "code",
   "execution_count": 36,
   "metadata": {},
   "outputs": [
    {
     "name": "stdout",
     "output_type": "stream",
     "text": [
      "True\n",
      "True\n",
      "True\n",
      "2 2\n"
     ]
    }
   ],
   "source": [
    "print(id(one) == id(two))\n",
    "print(one == two)\n",
    "print(one is two)\n",
    "print(one.x, two.x)"
   ]
  }
 ],
 "metadata": {
  "kernelspec": {
   "display_name": "Python 3",
   "language": "python",
   "name": "python3"
  },
  "language_info": {
   "codemirror_mode": {
    "name": "ipython",
    "version": 3
   },
   "file_extension": ".py",
   "mimetype": "text/x-python",
   "name": "python",
   "nbconvert_exporter": "python",
   "pygments_lexer": "ipython3",
   "version": "3.5.3"
  }
 },
 "nbformat": 4,
 "nbformat_minor": 2
}
