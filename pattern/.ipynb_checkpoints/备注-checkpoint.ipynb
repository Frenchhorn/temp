{
 "cells": [
  {
   "cell_type": "markdown",
   "metadata": {},
   "source": [
    "来源： http://design-patterns.readthedocs.io/zh_CN/latest/read_uml.html\n",
    "![avatar](http://design-patterns.readthedocs.io/zh_CN/latest/_images/uml_class_struct.jpg)\n",
    "* 车的类图结构为abstract，表示车是一个抽象类；\n",
    "* 它有两个继承类：小汽车和自行车；它们之间的关系为实现关系，使用带空心箭头的虚线表示；\n",
    "* 小汽车为与SUV之间也是继承关系，它们之间的关系为泛化关系，使用带空心箭头的实线表示；\n",
    "* 小汽车与发动机之间是组合关系，使用带实心箭头的实线表示；\n",
    "* 学生与班级之间是聚合关系，使用带空心箭头的实线表示；\n",
    "* 学生与身份证之间为关联关系，使用一根实线表示；\n",
    "* 学生上学需要用到自行车，与自行车是一种依赖关系，使用带箭头的虚线表示；"
   ]
  },
  {
   "cell_type": "markdown",
   "metadata": {},
   "source": [
    "### 泛化关系(generalization)\n",
    "继承关系为 is-a的关系；两个对象之间如果可以用 is-a 来表示，就是继承关系：（..是..)\n",
    "\n",
    "eg：自行车是车、猫是动物\n",
    "\n",
    "泛化关系用一条带空心箭头的直接表示；如下图表示（A继承自B）；\n",
    "![](http://design-patterns.readthedocs.io/zh_CN/latest/_images/uml_generalization.jpg)\n",
    "eg：汽车在现实中有实现，可用汽车定义具体的对象；汽车与SUV之间为泛化关系；\n",
    "![](http://design-patterns.readthedocs.io/zh_CN/latest/_images/uml_generalize.jpg)\n",
    "注：最终代码中，泛化关系表现为继承非抽象类；"
   ]
  }
 ],
 "metadata": {
  "kernelspec": {
   "display_name": "Python 3",
   "language": "python",
   "name": "python3"
  },
  "language_info": {
   "codemirror_mode": {
    "name": "ipython",
    "version": 3
   },
   "file_extension": ".py",
   "mimetype": "text/x-python",
   "name": "python",
   "nbconvert_exporter": "python",
   "pygments_lexer": "ipython3",
   "version": "3.5.3"
  }
 },
 "nbformat": 4,
 "nbformat_minor": 2
}
